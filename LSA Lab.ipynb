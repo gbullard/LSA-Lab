{
 "cells": [
  {
   "cell_type": "markdown",
   "metadata": {},
   "source": [
    "#LSA Lab\n",
    "\n",
    "Graham Bullard\n",
    "CS570"
   ]
  },
  {
   "cell_type": "code",
   "execution_count": 73,
   "metadata": {
    "collapsed": false
   },
   "outputs": [],
   "source": [
    "from bs4 import BeautifulSoup\n",
    "import nltk\n",
    "import sklearn\n",
    "from nltk.corpus import stopwords\n",
    "from sklearn.feature_extraction.text import TfidfVectorizer\n",
    "from sklearn.decomposition import TruncatedSVD\n",
    "from sklearn.datasets import fetch_20newsgroups\n",
    "categories = ['rec.sport.baseball']\n",
    "dataset = fetch_20newsgroups(subset='all',shuffle=True, random_state=42, categories=categories)\n",
    "corpus = dataset.data"
   ]
  },
  {
   "cell_type": "code",
   "execution_count": 74,
   "metadata": {
    "collapsed": false
   },
   "outputs": [
    {
     "name": "stdout",
     "output_type": "stream",
     "text": [
      "[nltk_data] Downloading package stopwords to\n",
      "[nltk_data]     C:\\Users\\Graham\\AppData\\Roaming\\nltk_data...\n",
      "[nltk_data]   Package stopwords is already up-to-date!\n"
     ]
    },
    {
     "data": {
      "text/plain": [
       "True"
      ]
     },
     "execution_count": 74,
     "metadata": {},
     "output_type": "execute_result"
    }
   ],
   "source": [
    "#run this only once\n",
    "nltk.download('stopwords')"
   ]
  },
  {
   "cell_type": "code",
   "execution_count": 333,
   "metadata": {
    "collapsed": false
   },
   "outputs": [],
   "source": [
    "stopset = set(stopwords.words('english'))\n",
    "stopset.update(['00','01','02','03','04','05','06','07','08','09','10',\n",
    "                '11','12','13','14','15','16','17','18','19','20',\n",
    "                'edu','com','article','re','cs','host','nntp','posting',\n",
    "                'organization','university','writes','000','netcom',\n",
    "                'might','on','get','much','also','would','could','subject',\n",
    "                'better','think','go','know','see','way','aix','ibm','help',\n",
    "                'distribution','ll','probably','always','even','sure',\n",
    "                'something','let','say','didn','anyone','good','players',\n",
    "                'back','like','lines','well','may','lafayette','vb30',\n",
    "                'lafibm','idle','really','ca','reply','make','believe',\n",
    "                'actually','pitcher','news','cc','dept','every','people',\n",
    "                'gant','look','lot','doesn','rather','ve','come','thanks',\n",
    "                'new','many','reason','uiuc','maybe','one','two','three','last',\n",
    "                'won','lost','first','last','time','year','long','pretty',\n",
    "                'kingston','around','big','going','team','game','runs','hit',\n",
    "                'day','end','asd','scott','stats','samuel','run','scott',\n",
    "                'viola','base','david','still','call','jhu','hcf','pablo',\n",
    "                'jhunix','games','able','except','best','got','little',\n",
    "                'duke','na','hall','give','tell','fame','dave','gatech',\n",
    "                'indiana','list','econ','next','either','mark','bob',\n",
    "                'trying','made','seems','guess','yet','either','isn',\n",
    "                'case','mjones','great','start','mike','spot','mail',\n",
    "                'start','bad','never','333','another','guys','cornell',\n",
    "                'need','thing','though','adobe','used'])"
   ]
  },
  {
   "cell_type": "code",
   "execution_count": 334,
   "metadata": {
    "collapsed": false
   },
   "outputs": [],
   "source": [
    "vectorizer = TfidfVectorizer(stop_words=stopset,\n",
    "                                 use_idf=True, ngram_range=(1, 3))\n",
    "X = vectorizer.fit_transform(corpus)"
   ]
  },
  {
   "cell_type": "code",
   "execution_count": 335,
   "metadata": {
    "collapsed": false
   },
   "outputs": [
    {
     "data": {
      "text/plain": [
       "<1x158191 sparse matrix of type '<type 'numpy.float64'>'\n",
       "\twith 171 stored elements in Compressed Sparse Row format>"
      ]
     },
     "execution_count": 335,
     "metadata": {},
     "output_type": "execute_result"
    }
   ],
   "source": [
    "X[0]"
   ]
  },
  {
   "cell_type": "code",
   "execution_count": 336,
   "metadata": {
    "collapsed": false
   },
   "outputs": [
    {
     "name": "stdout",
     "output_type": "stream",
     "text": [
      "  (0, 44852)\t0.0813591619817\n",
      "  (0, 122857)\t0.0813591619817\n",
      "  (0, 57470)\t0.0813591619817\n",
      "  (0, 95287)\t0.0813591619817\n",
      "  (0, 137891)\t0.0813591619817\n",
      "  (0, 100116)\t0.0813591619817\n",
      "  (0, 55392)\t0.0813591619817\n",
      "  (0, 86640)\t0.0813591619817\n",
      "  (0, 111355)\t0.0813591619817\n",
      "  (0, 120637)\t0.0813591619817\n",
      "  (0, 83150)\t0.0813591619817\n",
      "  (0, 95870)\t0.0813591619817\n",
      "  (0, 52413)\t0.0813591619817\n",
      "  (0, 44900)\t0.0813591619817\n",
      "  (0, 30121)\t0.0813591619817\n",
      "  (0, 55382)\t0.0813591619817\n",
      "  (0, 44908)\t0.0813591619817\n",
      "  (0, 57882)\t0.0813591619817\n",
      "  (0, 44799)\t0.0813591619817\n",
      "  (0, 74751)\t0.0813591619817\n",
      "  (0, 117343)\t0.0813591619817\n",
      "  (0, 95333)\t0.0813591619817\n",
      "  (0, 156417)\t0.0813591619817\n",
      "  (0, 68512)\t0.0813591619817\n",
      "  (0, 49669)\t0.0813591619817\n",
      "  :\t:\n",
      "  (0, 131660)\t0.0429771797285\n",
      "  (0, 141063)\t0.0500709304588\n",
      "  (0, 68689)\t0.0553748481479\n",
      "  (0, 37419)\t0.0433597534544\n",
      "  (0, 28272)\t0.0593998692897\n",
      "  (0, 70442)\t0.0379108464803\n",
      "  (0, 120901)\t0.0611394356816\n",
      "  (0, 101564)\t0.122278871363\n",
      "  (0, 31867)\t0.109648517502\n",
      "  (0, 34896)\t0.115785976679\n",
      "  (0, 14463)\t0.0813591619817\n",
      "  (0, 80768)\t0.122278871363\n",
      "  (0, 4818)\t0.0415647331714\n",
      "  (0, 138288)\t0.0672219271704\n",
      "  (0, 41897)\t0.0429771797285\n",
      "  (0, 147091)\t0.0433597534544\n",
      "  (0, 95077)\t0.0672219271704\n",
      "  (0, 134561)\t0.0412376133366\n",
      "  (0, 25012)\t0.0339098612243\n",
      "  (0, 59021)\t0.137922987125\n",
      "  (0, 44778)\t0.178199607869\n",
      "  (0, 33194)\t0.0559536849792\n",
      "  (0, 33224)\t0.0559536849792\n",
      "  (0, 84225)\t0.054824258751\n",
      "  (0, 155956)\t0.0813591619817\n"
     ]
    }
   ],
   "source": [
    "print X[0]"
   ]
  },
  {
   "cell_type": "code",
   "execution_count": 337,
   "metadata": {
    "collapsed": false
   },
   "outputs": [
    {
     "data": {
      "text/plain": [
       "(994, 158191)"
      ]
     },
     "execution_count": 337,
     "metadata": {},
     "output_type": "execute_result"
    }
   ],
   "source": [
    "X.shape"
   ]
  },
  {
   "cell_type": "code",
   "execution_count": 338,
   "metadata": {
    "collapsed": false
   },
   "outputs": [
    {
     "data": {
      "text/plain": [
       "TruncatedSVD(algorithm='randomized', n_components=27, n_iter=100,\n",
       "       random_state=None, tol=0.0)"
      ]
     },
     "execution_count": 338,
     "metadata": {},
     "output_type": "execute_result"
    }
   ],
   "source": [
    "lsa = TruncatedSVD(n_components=27, n_iter=100)\n",
    "lsa.fit(X)"
   ]
  },
  {
   "cell_type": "code",
   "execution_count": 339,
   "metadata": {
    "collapsed": false
   },
   "outputs": [
    {
     "data": {
      "text/plain": [
       "array([ 0.00064284,  0.00064284,  0.00064284, ...,  0.0012751 ,\n",
       "        0.0012751 ,  0.0012751 ])"
      ]
     },
     "execution_count": 339,
     "metadata": {},
     "output_type": "execute_result"
    }
   ],
   "source": [
    "#This is the first row for V\n",
    "lsa.components_[0]"
   ]
  },
  {
   "cell_type": "code",
   "execution_count": 340,
   "metadata": {
    "collapsed": false
   },
   "outputs": [
    {
     "name": "stdout",
     "output_type": "stream",
     "text": [
      "Concept 0:\n",
      "baseball\n",
      "morris\n",
      "jewish\n",
      "braves\n",
      "roger\n",
      "win\n",
      "sox\n",
      "clutch\n",
      "league\n",
      "hitter\n",
      " \n",
      "Concept 1:\n",
      "jewish\n",
      "jewish baseball\n",
      "lowenstein\n",
      "john lowenstein\n",
      "koufax\n",
      "stankowitz\n",
      "sandy koufax\n",
      "princeton\n",
      "sandy\n",
      "baseball past present\n",
      " \n",
      "Concept 2:\n",
      "batting\n",
      "world\n",
      "hitter\n",
      "stanford\n",
      "play\n",
      "pitching\n",
      "defensive\n",
      "roger\n",
      "ball\n",
      "hitting\n",
      " \n",
      "Concept 3:\n",
      "morris\n",
      "john\n",
      "ball\n",
      "al\n",
      "player\n",
      "series\n",
      "roger\n",
      "san\n",
      "red\n",
      "sox\n",
      " \n",
      "Concept 4:\n",
      "roger\n",
      "baseball\n",
      "princeton\n",
      "staff\n",
      "hitter\n",
      "wins\n",
      "play\n",
      "third\n",
      "michael\n",
      "pitching\n",
      " \n",
      "Concept 5:\n",
      "sox\n",
      "hits\n",
      "defensive\n",
      "far\n",
      "years\n",
      "series\n",
      "win\n",
      "yankees\n",
      "second\n",
      "red sox\n",
      " \n",
      "Concept 6:\n",
      "years\n",
      "right\n",
      "home\n",
      "wins\n",
      "season\n",
      "america\n",
      "sox\n",
      "young\n",
      "west\n",
      "went\n",
      " \n",
      "Concept 7:\n",
      "sox\n",
      "mets\n",
      "world\n",
      "baseball\n",
      "morris\n",
      "west\n",
      "baltimore\n",
      "steve\n",
      "want\n",
      "since\n",
      " \n",
      "Concept 8:\n",
      "baseball\n",
      "play\n",
      "point\n",
      "sox\n",
      "braves\n",
      "nl\n",
      "scores\n",
      "world\n",
      "west\n",
      "years\n",
      " \n",
      "Concept 9:\n",
      "league\n",
      "win\n",
      "roger\n",
      "colorado\n",
      "wins\n",
      "world\n",
      "white\n",
      "hitter\n",
      "giants\n",
      "smith\n",
      " \n",
      "Concept 10:\n",
      "right\n",
      "home\n",
      "cubs\n",
      "hitting\n",
      "colorado\n",
      "san\n",
      "roger\n",
      "mss\n",
      "clutch\n",
      "player\n",
      " \n",
      "Concept 11:\n",
      "right\n",
      "major\n",
      "hirschbeck\n",
      "play\n",
      "mets\n",
      "nl\n",
      "fans\n",
      "east\n",
      "clemens\n",
      "chicago\n",
      " \n",
      "Concept 12:\n",
      "win\n",
      "cubs\n",
      "take\n",
      "toronto\n",
      "colorado\n",
      "fan\n",
      "red\n",
      "john\n",
      "player\n",
      "hirschbeck\n",
      " \n",
      "Concept 13:\n",
      "player\n",
      "baseball\n",
      "west\n",
      "world\n",
      "wrong\n",
      "east\n",
      "1992\n",
      "jays\n",
      "years\n",
      "colorado\n",
      " \n",
      "Concept 14:\n",
      "braves\n",
      "batting\n",
      "jays\n",
      "sox\n",
      "years\n",
      "roger\n",
      "ball\n",
      "east\n",
      "22\n",
      "stanford\n",
      " \n",
      "Concept 15:\n",
      "play\n",
      "john\n",
      "career\n",
      "morris\n",
      "league\n",
      "years\n",
      "york\n",
      "mets\n",
      "bat\n",
      "smith\n",
      " \n",
      "Concept 16:\n",
      "league\n",
      "braves\n",
      "teams\n",
      "pitching\n",
      "giants\n",
      "boston\n",
      "reds\n",
      "ab\n",
      "least\n",
      "steve\n",
      " \n",
      "Concept 17:\n",
      "sox\n",
      "baseball\n",
      "red\n",
      "braves\n",
      "division\n",
      "fans\n",
      "ted\n",
      "world series\n",
      "giants\n",
      "teams\n",
      " \n",
      "Concept 18:\n",
      "years\n",
      "baseball\n",
      "season\n",
      "home\n",
      "morris\n",
      "behind\n",
      "fans\n",
      "series\n",
      "batting\n",
      "boston\n",
      " \n",
      "Concept 19:\n",
      "hitter\n",
      "win\n",
      "player\n",
      "morris\n",
      "years\n",
      "john\n",
      "dodgers\n",
      "braves\n",
      "era\n",
      "berkeley\n",
      " \n",
      "Concept 20:\n",
      "win\n",
      "season\n",
      "second\n",
      "home\n",
      "hitting\n",
      "baseball\n",
      "phillies\n",
      "22\n",
      "usa\n",
      "says\n",
      " \n",
      "Concept 21:\n",
      "win\n",
      "jewish\n",
      "world\n",
      "jays\n",
      "play\n",
      "season\n",
      "home\n",
      "career\n",
      "williams\n",
      "braves\n",
      " \n",
      "Concept 22:\n",
      "win\n",
      "morris\n",
      "23\n",
      "blue\n",
      "left\n",
      "league\n",
      "steve\n",
      "batting\n",
      "stadium\n",
      "cubs\n",
      " \n",
      "Concept 23:\n",
      "baseball\n",
      "right\n",
      "braves\n",
      "home\n",
      "world\n",
      "yankees\n",
      "1993\n",
      "pitching\n",
      "hitter\n",
      "edward\n",
      " \n",
      "Concept 24:\n",
      "win\n",
      "baseball\n",
      "era\n",
      "braves\n",
      "league\n",
      "roger\n",
      "san\n",
      "world\n",
      "bonds\n",
      "22\n",
      " \n",
      "Concept 25:\n",
      "000th career win\n",
      "000th\n",
      "000th career\n",
      "001 100\n",
      "001\n",
      "001 100 beloved\n",
      "hitter\n",
      "1993\n",
      "home\n",
      "season\n",
      " \n",
      "Concept 26:\n",
      "001 100\n",
      "0000ahc udcps3\n",
      "001 100 beloved\n",
      "0000ahc udcps3 cps\n",
      "0000ahc\n",
      "001\n",
      "baseball\n",
      "bonds\n",
      "mets\n",
      "john\n",
      " \n"
     ]
    }
   ],
   "source": [
    "terms = vectorizer.get_feature_names()\n",
    "for i, comp in enumerate(lsa.components_): \n",
    "    termsInComp = zip (terms,comp)\n",
    "    sortedTerms =  sorted(termsInComp, key=lambda x: x[1], reverse=True) [:10]\n",
    "    print \"Concept %d:\" % i\n",
    "    for term in sortedTerms:\n",
    "        print term[0]\n",
    "    print \" \""
   ]
  },
  {
   "cell_type": "code",
   "execution_count": null,
   "metadata": {
    "collapsed": true
   },
   "outputs": [],
   "source": []
  }
 ],
 "metadata": {},
 "nbformat": 4,
 "nbformat_minor": 0
}
